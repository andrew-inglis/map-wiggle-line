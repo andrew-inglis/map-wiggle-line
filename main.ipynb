{
 "cells": [
  {
   "cell_type": "code",
   "execution_count": 1,
   "metadata": {},
   "outputs": [],
   "source": [
    "from PIL import Image\n",
    "import numpy as np\n",
    "import matplotlib.pyplot as plt\n",
    "import random"
   ]
  },
  {
   "cell_type": "code",
   "execution_count": 3,
   "metadata": {},
   "outputs": [
    {
     "name": "stdout",
     "output_type": "stream",
     "text": [
      "[[255 255 255 ... 255 255 255]\n",
      " [255 255 255 ... 255 255 255]\n",
      " [255 255 255 ... 255 255 255]\n",
      " ...\n",
      " [255 255 255 ... 255 255 255]\n",
      " [255 255 255 ... 255 255 255]\n",
      " [255 255 255 ... 255 255 255]]\n"
     ]
    }
   ],
   "source": [
    "# import sample image\n",
    "\n",
    "image_path = './images/map0001.png'\n",
    "\n",
    "# Open the image\n",
    "image = Image.open(image_path)\n",
    "\n",
    "# Convert the image to grayscale (if it's not already)\n",
    "image_bw = image.convert('L')\n",
    "\n",
    "# Convert the image to a numpy array\n",
    "image_array = np.array(image_bw)\n",
    "\n",
    "# Now, image_array is a numpy array representation of your image\n",
    "#import sys\n",
    "#np.set_printoptions(threshold=sys.maxsize)\n",
    "print(image_array)\n"
   ]
  },
  {
   "cell_type": "code",
   "execution_count": 4,
   "metadata": {},
   "outputs": [
    {
     "data": {
      "image/png": "[encoded data removed]",
      "text/plain": [
       "<Figure size 640x480 with 1 Axes>"
      ]
     },
     "metadata": {},
     "output_type": "display_data"
    }
   ],
   "source": [
    "def show_image_array(image_array):\n",
    "    plt.imshow(image_array, cmap='gray', interpolation='none')\n",
    "    plt.axis('off')  # Turn off axis numbers\n",
    "    plt.show()\n",
    "\n",
    "show_image_array(image_array)"
   ]
  },
  {
   "cell_type": "code",
   "execution_count": 5,
   "metadata": {},
   "outputs": [],
   "source": [
    "def find_boundary_pixels(image_array):\n",
    "    \"\"\"Find boundary pixels in the binary image.\"\"\"\n",
    "    boundary_pixels = []\n",
    "    rows, cols = image_array.shape\n",
    "    for i in range(1, rows - 1):\n",
    "        for j in range(1, cols - 1):\n",
    "            # A boundary pixel has at least one neighbor with a different value\n",
    "            if np.any(image_array[i-1:i+2, j-1:j+2] != image_array[i, j]):\n",
    "                boundary_pixels.append((i, j))\n",
    "    return boundary_pixels\n",
    "\n",
    "boundary_pixels = find_boundary_pixels(image_array)"
   ]
  },
  {
   "cell_type": "code",
   "execution_count": 92,
   "metadata": {},
   "outputs": [
    {
     "name": "stdout",
     "output_type": "stream",
     "text": [
      "[(43, 43), (43, 44), (43, 45), (43, 46), (43, 47), (43, 48), (43, 49), (43, 50), (43, 51), (43, 52), (43, 53), (43, 54), (43, 55), (43, 56), (43, 57), (43, 58), (43, 59), (43, 60), (43, 61), (43, 62), (43, 63), (43, 64), (43, 65), (43, 66), (43, 67), (43, 68), (43, 69), (43, 70), (43, 71), (43, 72), (43, 73), (43, 74), (43, 75), (43, 76), (43, 77), (43, 78), (43, 79), (43, 80), (43, 81), (43, 82), (43, 83), (43, 84), (43, 85), (43, 86), (43, 87), (43, 88), (43, 89), (43, 90), (43, 91), (43, 92), (43, 93), (43, 94), (43, 95), (43, 96), (43, 97), (43, 98), (43, 99), (43, 100), (43, 101), (43, 102), (43, 103), (43, 104), (43, 105), (43, 106), (43, 107), (43, 108), (43, 109), (43, 110), (43, 111), (43, 112), (43, 113), (43, 114), (43, 115), (43, 116), (43, 117), (43, 118), (43, 119), (43, 120), (43, 121), (43, 122), (43, 123), (43, 124), (43, 125), (43, 126), (43, 127), (43, 128), (43, 129), (43, 130), (43, 131), (43, 132), (43, 133), (43, 134), (43, 135), (43, 136), (43, 137), (43, 138), (43, 139), (43, 140), (43, 141), (43, 142), (43, 143), (43, 144), (43, 145), (43, 146), (43, 147), (43, 148), (43, 149), (43, 150), (43, 151), (43, 152), (43, 153), (43, 154), (43, 155), (43, 156), (44, 43), (44, 44), (44, 45), (44, 46), (44, 47), (44, 48), (44, 49), (44, 50), (44, 51), (44, 52), (44, 53), (44, 54), (44, 55), (44, 56), (44, 57), (44, 58), (44, 59), (44, 60), (44, 61), (44, 62), (44, 63), (44, 64), (44, 65), (44, 66), (44, 67), (44, 68), (44, 69), (44, 70), (44, 71), (44, 72), (44, 73), (44, 74), (44, 75), (44, 76), (44, 77), (44, 78), (44, 79), (44, 80), (44, 81), (44, 82), (44, 83), (44, 84), (44, 85), (44, 86), (44, 87), (44, 88), (44, 89), (44, 90), (44, 91), (44, 92), (44, 93), (44, 94), (44, 95), (44, 96), (44, 97), (44, 98), (44, 99), (44, 100), (44, 101), (44, 102), (44, 103), (44, 104), (44, 105), (44, 106), (44, 107), (44, 108), (44, 109), (44, 110), (44, 111), (44, 112), (44, 113), (44, 114), (44, 115), (44, 116), (44, 117), (44, 118), (44, 119), (44, 120), (44, 121), (44, 122), (44, 123), (44, 124), (44, 125), (44, 126), (44, 127), (44, 128), (44, 129), (44, 130), (44, 131), (44, 132), (44, 133), (44, 134), (44, 135), (44, 136), (44, 137), (44, 138), (44, 139), (44, 140), (44, 141), (44, 142), (44, 143), (44, 144), (44, 145), (44, 146), (44, 147), (44, 148), (44, 149), (44, 150), (44, 151), (44, 152), (44, 153), (44, 154), (44, 155), (44, 156), (45, 43), (45, 44), (45, 155), (45, 156), (46, 43), (46, 44), (46, 155), (46, 156), (47, 43), (47, 44), (47, 155), (47, 156), (48, 43), (48, 44), (48, 155), (48, 156), (49, 43), (49, 44), (49, 155), (49, 156), (50, 43), (50, 44), (50, 155), (50, 156), (51, 43), (51, 44), (51, 155), (51, 156), (52, 43), (52, 44), (52, 155), (52, 156), (53, 43), (53, 44), (53, 155), (53, 156), (54, 43), (54, 44), (54, 155), (54, 156), (55, 43), (55, 44), (55, 155), (55, 156), (56, 43), (56, 44), (56, 155), (56, 156), (57, 43), (57, 44), (57, 155), (57, 156), (58, 43), (58, 44), (58, 155), (58, 156), (59, 43), (59, 44), (59, 155), (59, 156), (60, 43), (60, 44), (60, 155), (60, 156), (61, 43), (61, 44), (61, 155), (61, 156), (62, 43), (62, 44), (62, 155), (62, 156), (63, 43), (63, 44), (63, 155), (63, 156), (64, 43), (64, 44), (64, 155), (64, 156), (65, 43), (65, 44), (65, 155), (65, 156), (66, 43), (66, 44), (66, 155), (66, 156), (67, 43), (67, 44), (67, 155), (67, 156), (68, 43), (68, 44), (68, 155), (68, 156), (69, 43), (69, 44), (69, 155), (69, 156), (70, 43), (70, 44), (70, 155), (70, 156), (71, 43), (71, 44), (71, 155), (71, 156), (72, 43), (72, 44), (72, 155), (72, 156), (73, 43), (73, 44), (73, 155), (73, 156), (74, 43), (74, 44), (74, 155), (74, 156), (75, 43), (75, 44), (75, 155), (75, 156), (76, 43), (76, 44), (76, 155), (76, 156), (77, 43), (77, 44), (77, 155), (77, 156), (78, 43), (78, 44), (78, 155), (78, 156), (79, 43), (79, 44), (79, 155), (79, 156), (80, 43), (80, 44), (80, 155), (80, 156), (81, 43), (81, 44), (81, 155), (81, 156), (82, 43), (82, 44), (82, 155), (82, 156), (83, 43), (83, 44), (83, 155), (83, 156), (84, 43), (84, 44), (84, 155), (84, 156), (85, 43), (85, 44), (85, 155), (85, 156), (86, 43), (86, 44), (86, 155), (86, 156), (87, 43), (87, 44), (87, 155), (87, 156), (88, 43), (88, 44), (88, 155), (88, 156), (89, 43), (89, 44), (89, 155), (89, 156), (90, 43), (90, 44), (90, 155), (90, 156), (91, 43), (91, 44), (91, 155), (91, 156), (92, 43), (92, 44), (92, 155), (92, 156), (93, 43), (93, 44), (93, 155), (93, 156), (94, 43), (94, 44), (94, 155), (94, 156), (95, 43), (95, 44), (95, 155), (95, 156), (96, 43), (96, 44), (96, 155), (96, 156), (97, 43), (97, 44), (97, 155), (97, 156), (98, 43), (98, 44), (98, 155), (98, 156), (99, 43), (99, 44), (99, 155), (99, 156), (100, 43), (100, 44), (100, 155), (100, 156), (101, 43), (101, 44), (101, 155), (101, 156), (102, 43), (102, 44), (102, 155), (102, 156), (103, 43), (103, 44), (103, 155), (103, 156), (104, 43), (104, 44), (104, 155), (104, 156), (105, 43), (105, 44), (105, 155), (105, 156), (106, 43), (106, 44), (106, 155), (106, 156), (107, 43), (107, 44), (107, 155), (107, 156), (108, 43), (108, 44), (108, 155), (108, 156), (109, 43), (109, 44), (109, 155), (109, 156), (110, 43), (110, 44), (110, 155), (110, 156), (111, 43), (111, 44), (111, 155), (111, 156), (112, 43), (112, 44), (112, 155), (112, 156), (113, 43), (113, 44), (113, 155), (113, 156), (114, 43), (114, 44), (114, 155), (114, 156), (115, 43), (115, 44), (115, 155), (115, 156), (116, 43), (116, 44), (116, 155), (116, 156), (117, 43), (117, 44), (117, 155), (117, 156), (118, 43), (118, 44), (118, 155), (118, 156), (119, 43), (119, 44), (119, 155), (119, 156), (120, 43), (120, 44), (120, 155), (120, 156), (121, 43), (121, 44), (121, 155), (121, 156), (122, 43), (122, 44), (122, 155), (122, 156), (123, 43), (123, 44), (123, 155), (123, 156), (124, 43), (124, 44), (124, 155), (124, 156), (125, 43), (125, 44), (125, 155), (125, 156), (126, 43), (126, 44), (126, 155), (126, 156), (127, 43), (127, 44), (127, 155), (127, 156), (128, 43), (128, 44), (128, 155), (128, 156), (129, 43), (129, 44), (129, 155), (129, 156), (130, 43), (130, 44), (130, 155), (130, 156), (131, 43), (131, 44), (131, 155), (131, 156), (132, 43), (132, 44), (132, 155), (132, 156), (133, 43), (133, 44), (133, 155), (133, 156), (134, 43), (134, 44), (134, 155), (134, 156), (135, 43), (135, 44), (135, 45), (135, 46), (135, 47), (135, 48), (135, 49), (135, 50), (135, 51), (135, 52), (135, 53), (135, 54), (135, 55), (135, 56), (135, 57), (135, 58), (135, 59), (135, 60), (135, 61), (135, 62), (135, 63), (135, 64), (135, 65), (135, 66), (135, 67), (135, 68), (135, 69), (135, 70), (135, 71), (135, 72), (135, 73), (135, 74), (135, 75), (135, 76), (135, 77), (135, 78), (135, 79), (135, 80), (135, 81), (135, 82), (135, 83), (135, 84), (135, 85), (135, 86), (135, 87), (135, 88), (135, 89), (135, 90), (135, 91), (135, 92), (135, 93), (135, 94), (135, 95), (135, 96), (135, 97), (135, 98), (135, 99), (135, 100), (135, 101), (135, 102), (135, 103), (135, 104), (135, 105), (135, 106), (135, 107), (135, 108), (135, 109), (135, 110), (135, 111), (135, 112), (135, 113), (135, 114), (135, 115), (135, 116), (135, 117), (135, 118), (135, 119), (135, 120), (135, 121), (135, 122), (135, 123), (135, 124), (135, 125), (135, 126), (135, 127), (135, 128), (135, 129), (135, 130), (135, 131), (135, 132), (135, 133), (135, 134), (135, 135), (135, 136), (135, 137), (135, 138), (135, 139), (135, 140), (135, 141), (135, 142), (135, 143), (135, 144), (135, 145), (135, 146), (135, 147), (135, 148), (135, 149), (135, 150), (135, 151), (135, 152), (135, 153), (135, 154), (135, 155), (135, 156), (136, 43), (136, 44), (136, 45), (136, 46), (136, 47), (136, 48), (136, 49), (136, 50), (136, 51), (136, 52), (136, 53), (136, 54), (136, 55), (136, 56), (136, 57), (136, 58), (136, 59), (136, 60), (136, 61), (136, 62), (136, 63), (136, 64), (136, 65), (136, 66), (136, 67), (136, 68), (136, 69), (136, 70), (136, 71), (136, 72), (136, 73), (136, 74), (136, 75), (136, 76), (136, 77), (136, 78), (136, 79), (136, 80), (136, 81), (136, 82), (136, 83), (136, 84), (136, 85), (136, 86), (136, 87), (136, 88), (136, 89), (136, 90), (136, 91), (136, 92), (136, 93), (136, 94), (136, 95), (136, 96), (136, 97), (136, 98), (136, 99), (136, 100), (136, 101), (136, 102), (136, 103), (136, 104), (136, 105), (136, 106), (136, 107), (136, 108), (136, 109), (136, 110), (136, 111), (136, 112), (136, 113), (136, 114), (136, 115), (136, 116), (136, 117), (136, 118), (136, 119), (136, 120), (136, 121), (136, 122), (136, 123), (136, 124), (136, 125), (136, 126), (136, 127), (136, 128), (136, 129), (136, 130), (136, 131), (136, 132), (136, 133), (136, 134), (136, 135), (136, 136), (136, 137), (136, 138), (136, 139), (136, 140), (136, 141), (136, 142), (136, 143), (136, 144), (136, 145), (136, 146), (136, 147), (136, 148), (136, 149), (136, 150), (136, 151), (136, 152), (136, 153), (136, 154), (136, 155), (136, 156)]\n"
     ]
    }
   ],
   "source": [
    "print(boundary_pixels)"
   ]
  },
  {
   "cell_type": "code",
   "execution_count": 6,
   "metadata": {},
   "outputs": [
    {
     "data": {
      "image/png": "[encoded data removed]",
      "text/plain": [
       "<Figure size 640x480 with 1 Axes>"
      ]
     },
     "metadata": {},
     "output_type": "display_data"
    }
   ],
   "source": [
    "\n",
    "def display_edge_pixels(boundary_pixels):\n",
    "    # Create a new image with white background\n",
    "    new_image = np.ones(image_array.shape + (3,), dtype=np.uint8) * 255  # White background\n",
    "\n",
    "    # Set boundary pixels to blue\n",
    "    for i, j in boundary_pixels:\n",
    "        new_image[i, j] = [0, 0, 255]  # Blue color\n",
    "\n",
    "    # Display the image\n",
    "    plt.imshow(new_image, interpolation='none')\n",
    "    plt.axis('off')\n",
    "    plt.show()\n",
    "\n",
    "display_edge_pixels(boundary_pixels)"
   ]
  },
  {
   "cell_type": "code",
   "execution_count": 199,
   "metadata": {},
   "outputs": [
    {
     "name": "stdout",
     "output_type": "stream",
     "text": [
      "0.31368085090936704\n"
     ]
    }
   ],
   "source": [
    "print(random.random())"
   ]
  },
  {
   "cell_type": "code",
   "execution_count": 7,
   "metadata": {},
   "outputs": [],
   "source": [
    "def add_randomness_to_boundaries(image_array, boundary_pixels, randomness_factor=0.5):\n",
    "    \"\"\"Add randomness to the boundaries.\"\"\"\n",
    "    for i, j in boundary_pixels:\n",
    "        if random.random() < randomness_factor:\n",
    "            if(image_array[i, j]) == 255:\n",
    "                image_array[i, j] = 0\n",
    "            else:\n",
    "                image_array[i, j] = 255\n",
    "                "
   ]
  },
  {
   "cell_type": "code",
   "execution_count": 15,
   "metadata": {},
   "outputs": [
    {
     "data": {
      "image/png": "[encoded data removed]",
      "text/plain": [
       "<Figure size 640x480 with 1 Axes>"
      ]
     },
     "metadata": {},
     "output_type": "display_data"
    },
    {
     "data": {
      "image/png": "[encoded data removed]",
      "text/plain": [
       "<Figure size 640x480 with 1 Axes>"
      ]
     },
     "metadata": {},
     "output_type": "display_data"
    }
   ],
   "source": [
    "\n",
    "\n",
    "\n",
    "add_randomness_to_boundaries(image_array, boundary_pixels)\n",
    "boundary_pixels = find_boundary_pixels(image_array)\n",
    "#combine boundary pixels to the image array\n",
    "\n",
    "for coord in boundary_pixels:\n",
    "    image_array[coord[0], coord[1]] = 0\n",
    "\n",
    "#image_array = make_boundary_wavy(image_array, boundary_pixels)\n",
    "show_image_array(image_array)\n",
    "display_edge_pixels(boundary_pixels)\n",
    "\n"
   ]
  }
 ],
 "metadata": {
  "kernelspec": {
   "display_name": "myenv",
   "language": "python",
   "name": "python3"
  },
  "language_info": {
   "codemirror_mode": {
    "name": "ipython",
    "version": 3
   },
   "file_extension": ".py",
   "mimetype": "text/x-python",
   "name": "python",
   "nbconvert_exporter": "python",
   "pygments_lexer": "ipython3",
   "version": "3.9.6"
  }
 },
 "nbformat": 4,
 "nbformat_minor": 2
}
