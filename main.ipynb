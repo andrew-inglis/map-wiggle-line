{
 "cells": [
  {
   "cell_type": "code",
   "execution_count": 1,
   "metadata": {},
   "outputs": [],
   "source": [
    "from PIL import Image\n",
    "import numpy as np\n",
    "import matplotlib.pyplot as plt\n",
    "import random"
   ]
  },
  {
   "cell_type": "code",
   "execution_count": 33,
   "metadata": {},
   "outputs": [
    {
     "name": "stdout",
     "output_type": "stream",
     "text": [
      "[[  0   0   0 ...   0   0   0]\n",
      " [  0   0   0 ...   0   0   0]\n",
      " [  0   0   0 ...   0   0   0]\n",
      " ...\n",
      " [255 255 255 ... 255 255 255]\n",
      " [255 255 255 ... 255 255 255]\n",
      " [255 255 255 ... 255 255 255]]\n"
     ]
    }
   ],
   "source": [
    "# import sample image\n",
    "\n",
    "#image_path = './images/map0001.png'\n",
    "image_path = './images/map005_small002.png'\n",
    "\n",
    "\n",
    "# Open the image\n",
    "image = Image.open(image_path)\n",
    "\n",
    "# Convert the image to grayscale (if it's not already)\n",
    "image_bw = image.convert('L')\n",
    "\n",
    "# Convert the image to a numpy array\n",
    "image_array = np.array(image_bw)\n",
    "\n",
    "# Now, image_array is a numpy array representation of your image\n",
    "#import sys\n",
    "#np.set_printoptions(threshold=sys.maxsize)\n",
    "print(image_array)\n"
   ]
  },
  {
   "cell_type": "code",
   "execution_count": 34,
   "metadata": {},
   "outputs": [
    {
     "data": {
      "image/png": "[encoded data removed]",
      "text/plain": [
       "<Figure size 640x480 with 1 Axes>"
      ]
     },
     "metadata": {},
     "output_type": "display_data"
    }
   ],
   "source": [
    "def show_image_array(image_array):\n",
    "    plt.imshow(image_array, cmap='gray', interpolation='none')\n",
    "    plt.axis('off')  # Turn off axis numbers\n",
    "    plt.show()\n",
    "\n",
    "show_image_array(image_array)"
   ]
  },
  {
   "cell_type": "code",
   "execution_count": 35,
   "metadata": {},
   "outputs": [],
   "source": [
    "def find_boundary_pixels(image_array):\n",
    "    \"\"\"Find boundary pixels in the binary image.\"\"\"\n",
    "    boundary_pixels = []\n",
    "    rows, cols = image_array.shape\n",
    "    for i in range(1, rows - 1):\n",
    "        for j in range(1, cols - 1):\n",
    "            # A boundary pixel has at least one neighbor with a different value\n",
    "            if np.any(image_array[i-1:i+2, j-1:j+2] != image_array[i, j]):\n",
    "                boundary_pixels.append((i, j))\n",
    "    return boundary_pixels\n",
    "\n",
    "boundary_pixels = find_boundary_pixels(image_array)"
   ]
  },
  {
   "cell_type": "code",
   "execution_count": 36,
   "metadata": {},
   "outputs": [
    {
     "name": "stdout",
     "output_type": "stream",
     "text": [
      "[(1, 59), (1, 60), (1, 61), (1, 62), (1, 78), (1, 79), (1, 80), (1, 81), (2, 60), (2, 61), (2, 62), (2, 63), (2, 79), (2, 80), (2, 81), (3, 61), (3, 62), (3, 63), (3, 80), (3, 81), (3, 82), (4, 62), (4, 63), (4, 80), (4, 81), (4, 82), (4, 83), (5, 62), (5, 63), (5, 64), (5, 81), (5, 82), (5, 83), (6, 62), (6, 63), (6, 64), (6, 65), (6, 82), (6, 83), (6, 84), (7, 63), (7, 64), (7, 65), (7, 82), (7, 83), (7, 84), (7, 85), (8, 64), (8, 65), (8, 83), (8, 84), (8, 85), (9, 64), (9, 65), (9, 84), (9, 85), (9, 86), (10, 64), (10, 65), (10, 84), (10, 85), (10, 86), (10, 87), (11, 64), (11, 65), (11, 85), (11, 86), (11, 87), (12, 64), (12, 65), (12, 86), (12, 87), (13, 64), (13, 65), (13, 86), (13, 87), (14, 64), (14, 65), (14, 85), (14, 86), (14, 87), (15, 64), (15, 65), (15, 66), (15, 84), (15, 85), (15, 86), (15, 87), (16, 64), (16, 65), (16, 66), (16, 67), (16, 84), (16, 85), (16, 86), (17, 65), (17, 66), (17, 67), (17, 84), (17, 85), (18, 66), (18, 67), (18, 84), (18, 85), (19, 66), (19, 67), (19, 84), (19, 85), (20, 66), (20, 67), (20, 84), (20, 85), (21, 66), (21, 67), (21, 68), (21, 84), (21, 85), (22, 66), (22, 67), (22, 68), (22, 69), (22, 84), (22, 85), (22, 86), (23, 67), (23, 68), (23, 69), (23, 84), (23, 85), (23, 86), (23, 87), (24, 68), (24, 69), (24, 85), (24, 86), (24, 87), (24, 88), (25, 68), (25, 69), (25, 70), (25, 86), (25, 87), (25, 88), (25, 89), (26, 68), (26, 69), (26, 70), (26, 71), (26, 87), (26, 88), (26, 89), (26, 90), (27, 69), (27, 70), (27, 71), (27, 72), (27, 88), (27, 89), (27, 90), (27, 91), (28, 70), (28, 71), (28, 72), (28, 73), (28, 89), (28, 90), (28, 91), (28, 92), (29, 71), (29, 72), (29, 73), (29, 74), (29, 90), (29, 91), (29, 92), (29, 93), (30, 72), (30, 73), (30, 74), (30, 75), (30, 91), (30, 92), (30, 93), (30, 94), (31, 73), (31, 74), (31, 75), (31, 92), (31, 93), (31, 94), (31, 95), (32, 74), (32, 75), (32, 93), (32, 94), (32, 95), (32, 96), (33, 74), (33, 75), (33, 94), (33, 95), (33, 96), (33, 97), (34, 73), (34, 74), (34, 75), (34, 95), (34, 96), (34, 97), (34, 98), (35, 72), (35, 73), (35, 74), (35, 75), (35, 96), (35, 97), (35, 98), (35, 99), (36, 69), (36, 70), (36, 71), (36, 72), (36, 73), (36, 74), (36, 97), (36, 98), (36, 99), (36, 100), (37, 68), (37, 69), (37, 70), (37, 71), (37, 72), (37, 73), (37, 98), (37, 99), (37, 100), (37, 101), (38, 63), (38, 64), (38, 65), (38, 66), (38, 67), (38, 68), (38, 69), (38, 70), (38, 99), (38, 100), (38, 101), (38, 102), (39, 62), (39, 63), (39, 64), (39, 65), (39, 66), (39, 67), (39, 68), (39, 69), (39, 100), (39, 101), (39, 102), (39, 103), (40, 61), (40, 62), (40, 63), (40, 64), (40, 101), (40, 102), (40, 103), (40, 104), (41, 60), (41, 61), (41, 62), (41, 63), (41, 102), (41, 103), (41, 104), (41, 105), (42, 59), (42, 60), (42, 61), (42, 62), (42, 103), (42, 104), (42, 105), (43, 58), (43, 59), (43, 60), (43, 61), (43, 104), (43, 105), (43, 106), (44, 58), (44, 59), (44, 60), (44, 104), (44, 105), (44, 106), (44, 107), (45, 58), (45, 59), (45, 105), (45, 106), (45, 107), (45, 108), (46, 55), (46, 56), (46, 57), (46, 58), (46, 59), (46, 106), (46, 107), (46, 108), (46, 109), (47, 54), (47, 55), (47, 56), (47, 57), (47, 58), (47, 59), (47, 107), (47, 108), (47, 109), (47, 110), (48, 51), (48, 52), (48, 53), (48, 54), (48, 55), (48, 56), (48, 108), (48, 109), (48, 110), (48, 111), (49, 50), (49, 51), (49, 52), (49, 53), (49, 54), (49, 55), (49, 109), (49, 110), (49, 111), (49, 112), (50, 47), (50, 48), (50, 49), (50, 50), (50, 51), (50, 52), (50, 110), (50, 111), (50, 112), (50, 113), (51, 46), (51, 47), (51, 48), (51, 49), (51, 50), (51, 51), (51, 111), (51, 112), (51, 113), (52, 43), (52, 44), (52, 45), (52, 46), (52, 47), (52, 48), (52, 112), (52, 113), (52, 114), (52, 115), (53, 42), (53, 43), (53, 44), (53, 45), (53, 46), (53, 47), (53, 112), (53, 113), (53, 114), (53, 115), (53, 116), (54, 37), (54, 38), (54, 39), (54, 40), (54, 41), (54, 42), (54, 43), (54, 44), (54, 114), (54, 115), (54, 116), (54, 117), (55, 36), (55, 37), (55, 38), (55, 39), (55, 40), (55, 41), (55, 42), (55, 43), (55, 115), (55, 116), (55, 117), (55, 118), (56, 15), (56, 16), (56, 17), (56, 18), (56, 35), (56, 36), (56, 37), (56, 38), (56, 116), (56, 117), (56, 118), (56, 119), (57, 14), (57, 15), (57, 16), (57, 17), (57, 18), (57, 19), (57, 34), (57, 35), (57, 36), (57, 37), (57, 117), (57, 118), (57, 119), (58, 14), (58, 15), (58, 16), (58, 17), (58, 18), (58, 19), (58, 31), (58, 32), (58, 33), (58, 34), (58, 35), (58, 36), (58, 118), (58, 119), (58, 120), (59, 14), (59, 15), (59, 16), (59, 17), (59, 18), (59, 19), (59, 30), (59, 31), (59, 32), (59, 33), (59, 34), (59, 35), (59, 118), (59, 119), (59, 120), (59, 121), (60, 14), (60, 15), (60, 16), (60, 17), (60, 18), (60, 19), (60, 23), (60, 24), (60, 25), (60, 26), (60, 27), (60, 28), (60, 29), (60, 30), (60, 31), (60, 32), (60, 119), (60, 120), (60, 121), (60, 122), (61, 15), (61, 16), (61, 17), (61, 18), (61, 22), (61, 23), (61, 24), (61, 25), (61, 26), (61, 27), (61, 28), (61, 29), (61, 30), (61, 31), (61, 120), (61, 121), (61, 122), (61, 123), (62, 11), (62, 12), (62, 13), (62, 14), (62, 15), (62, 16), (62, 17), (62, 18), (62, 19), (62, 20), (62, 21), (62, 22), (62, 23), (62, 24), (62, 121), (62, 122), (62, 123), (62, 124), (63, 10), (63, 11), (63, 12), (63, 13), (63, 14), (63, 15), (63, 16), (63, 17), (63, 18), (63, 19), (63, 20), (63, 21), (63, 22), (63, 23), (63, 122), (63, 123), (63, 124), (63, 125), (64, 10), (64, 11), (64, 12), (64, 123), (64, 124), (64, 125), (65, 10), (65, 11), (65, 124), (65, 125), (65, 126), (66, 10), (66, 11), (66, 124), (66, 125), (66, 126), (66, 127), (67, 10), (67, 11), (67, 125), (67, 126), (67, 127), (68, 10), (68, 11), (68, 126), (68, 127), (69, 10), (69, 11), (69, 126), (69, 127), (70, 10), (70, 11), (70, 126), (70, 127), (71, 10), (71, 11), (71, 126), (71, 127), (72, 9), (72, 10), (72, 11), (72, 126), (72, 127), (73, 8), (73, 9), (73, 10), (73, 11), (73, 125), (73, 126), (73, 127), (74, 8), (74, 9), (74, 10), (74, 124), (74, 125), (74, 126), (74, 127), (75, 8), (75, 9), (75, 124), (75, 125), (75, 126), (76, 3), (76, 4), (76, 5), (76, 6), (76, 7), (76, 8), (76, 9), (76, 124), (76, 125), (76, 130), (76, 131), (76, 132), (76, 133), (76, 134), (76, 135), (77, 2), (77, 3), (77, 4), (77, 5), (77, 6), (77, 7), (77, 8), (77, 9), (77, 124), (77, 125), (77, 129), (77, 130), (77, 131), (77, 132), (77, 133), (77, 134), (77, 135), (77, 136), (78, 1), (78, 2), (78, 3), (78, 4), (78, 124), (78, 125), (78, 126), (78, 127), (78, 128), (78, 129), (78, 130), (78, 131), (78, 134), (78, 135), (78, 136), (78, 137), (78, 138), (78, 139), (79, 1), (79, 2), (79, 3), (79, 124), (79, 125), (79, 126), (79, 127), (79, 128), (79, 129), (79, 130), (79, 135), (79, 136), (79, 137), (79, 138), (79, 139), (79, 140), (80, 1), (80, 2), (80, 138), (80, 139), (80, 140), (80, 141), (80, 142), (81, 1), (81, 139), (81, 140), (81, 141), (81, 142), (81, 143), (82, 141), (82, 142), (82, 143), (82, 144), (83, 142), (83, 143), (83, 144), (83, 145), (84, 143), (84, 144), (84, 145), (84, 146), (85, 144), (85, 145), (85, 146), (85, 147), (86, 145), (86, 146), (86, 147), (86, 148), (87, 146), (87, 147), (87, 148), (87, 149), (88, 147), (88, 148), (88, 149), (88, 150), (89, 148), (89, 149), (89, 150), (89, 151), (90, 149), (90, 150), (90, 151), (90, 152), (90, 247), (91, 150), (91, 151), (91, 152), (91, 153), (91, 246), (91, 247), (92, 151), (92, 152), (92, 153), (92, 154), (92, 245), (92, 246), (92, 247), (93, 152), (93, 153), (93, 154), (93, 155), (93, 244), (93, 245), (93, 246), (93, 247), (94, 153), (94, 154), (94, 155), (94, 156), (94, 243), (94, 244), (94, 245), (94, 246), (95, 154), (95, 155), (95, 156), (95, 157), (95, 242), (95, 243), (95, 244), (95, 245), (96, 155), (96, 156), (96, 157), (96, 158), (96, 241), (96, 242), (96, 243), (96, 244), (97, 156), (97, 157), (97, 158), (97, 159), (97, 240), (97, 241), (97, 242), (97, 243), (98, 157), (98, 158), (98, 159), (98, 160), (98, 240), (98, 241), (98, 242), (99, 158), (99, 159), (99, 160), (99, 161), (99, 239), (99, 240), (99, 241), (100, 159), (100, 160), (100, 161), (100, 162), (100, 238), (100, 239), (100, 240), (100, 241), (101, 160), (101, 161), (101, 162), (101, 163), (101, 238), (101, 239), (101, 240), (102, 161), (102, 162), (102, 163), (102, 238), (102, 239), (103, 162), (103, 163), (103, 164), (103, 238), (103, 239), (104, 162), (104, 163), (104, 164), (104, 165), (104, 238), (104, 239), (105, 163), (105, 164), (105, 165), (105, 238), (105, 239), (106, 164), (106, 165), (106, 166), (106, 238), (106, 239), (106, 240), (107, 164), (107, 165), (107, 166), (107, 167), (107, 238), (107, 239), (107, 240), (107, 241), (108, 165), (108, 166), (108, 167), (108, 239), (108, 240), (108, 241), (109, 166), (109, 167), (109, 240), (109, 241), (110, 166), (110, 167), (110, 240), (110, 241), (111, 166), (111, 167), (111, 240), (111, 241), (112, 166), (112, 167), (112, 240), (112, 241), (113, 166), (113, 167), (113, 240), (113, 241), (114, 165), (114, 166), (114, 167), (114, 239), (114, 240), (114, 241), (115, 164), (115, 165), (115, 166), (115, 167), (115, 238), (115, 239), (115, 240), (115, 241), (116, 164), (116, 165), (116, 166), (116, 236), (116, 237), (116, 238), (116, 239), (116, 240), (117, 163), (117, 164), (117, 165), (117, 235), (117, 236), (117, 237), (117, 238), (117, 239), (118, 162), (118, 163), (118, 164), (118, 165), (118, 234), (118, 235), (118, 236), (118, 237), (119, 162), (119, 163), (119, 164), (119, 233), (119, 234), (119, 235), (119, 236), (120, 161), (120, 162), (120, 163), (120, 231), (120, 232), (120, 233), (120, 234), (120, 235), (121, 160), (121, 161), (121, 162), (121, 163), (121, 230), (121, 231), (121, 232), (121, 233), (121, 234), (122, 158), (122, 159), (122, 160), (122, 161), (122, 162), (122, 229), (122, 230), (122, 231), (122, 232), (123, 157), (123, 158), (123, 159), (123, 160), (123, 161), (123, 228), (123, 229), (123, 230), (123, 231), (124, 156), (124, 157), (124, 158), (124, 159), (124, 227), (124, 228), (124, 229), (124, 230), (125, 155), (125, 156), (125, 157), (125, 158), (125, 226), (125, 227), (125, 228), (125, 229), (126, 155), (126, 156), (126, 157), (126, 225), (126, 226), (126, 227), (126, 228), (127, 155), (127, 156), (127, 224), (127, 225), (127, 226), (127, 227), (128, 155), (128, 156), (128, 223), (128, 224), (128, 225), (128, 226), (129, 155), (129, 156), (129, 157), (129, 222), (129, 223), (129, 224), (129, 225), (130, 155), (130, 156), (130, 157), (130, 221), (130, 222), (130, 223), (130, 224), (131, 156), (131, 157), (131, 220), (131, 221), (131, 222), (131, 223), (132, 156), (132, 157), (132, 219), (132, 220), (132, 221), (132, 222), (133, 156), (133, 157), (133, 158), (133, 218), (133, 219), (133, 220), (133, 221), (134, 156), (134, 157), (134, 158), (134, 159), (134, 217), (134, 218), (134, 219), (134, 220), (135, 157), (135, 158), (135, 159), (135, 216), (135, 217), (135, 218), (135, 219), (136, 158), (136, 159), (136, 215), (136, 216), (136, 217), (136, 218), (137, 157), (137, 158), (137, 159), (137, 214), (137, 215), (137, 216), (137, 217), (138, 156), (138, 157), (138, 158), (138, 159), (138, 213), (138, 214), (138, 215), (138, 216), (139, 156), (139, 157), (139, 158), (139, 212), (139, 213), (139, 214), (139, 215), (140, 156), (140, 157), (140, 211), (140, 212), (140, 213), (140, 214), (141, 155), (141, 156), (141, 157), (141, 210), (141, 211), (141, 212), (141, 213), (142, 154), (142, 155), (142, 156), (142, 157), (142, 209), (142, 210), (142, 211), (142, 212), (143, 153), (143, 154), (143, 155), (143, 156), (143, 208), (143, 209), (143, 210), (143, 211), (144, 152), (144, 153), (144, 154), (144, 155), (144, 207), (144, 208), (144, 209), (144, 210), (145, 151), (145, 152), (145, 153), (145, 154), (145, 206), (145, 207), (145, 208), (145, 209), (146, 150), (146, 151), (146, 152), (146, 153), (146, 205), (146, 206), (146, 207), (146, 208), (147, 149), (147, 150), (147, 151), (147, 152), (147, 204), (147, 205), (147, 206), (147, 207), (148, 148), (148, 149), (148, 150), (148, 151), (148, 203), (148, 204), (148, 205), (148, 206), (149, 147), (149, 148), (149, 149), (149, 150), (149, 202), (149, 203), (149, 204), (149, 205), (150, 146), (150, 147), (150, 148), (150, 149), (150, 201), (150, 202), (150, 203), (150, 204), (151, 145), (151, 146), (151, 147), (151, 148), (151, 200), (151, 201), (151, 202), (151, 203), (152, 144), (152, 145), (152, 146), (152, 147), (152, 199), (152, 200), (152, 201), (152, 202), (153, 143), (153, 144), (153, 145), (153, 146), (153, 198), (153, 199), (153, 200), (153, 201), (154, 142), (154, 143), (154, 144), (154, 145), (154, 197), (154, 198), (154, 199), (154, 200), (155, 141), (155, 142), (155, 143), (155, 144), (155, 196), (155, 197), (155, 198), (155, 199), (156, 140), (156, 141), (156, 142), (156, 143), (156, 195), (156, 196), (156, 197), (156, 198), (157, 139), (157, 140), (157, 141), (157, 142), (157, 194), (157, 195), (157, 196), (157, 197), (158, 138), (158, 139), (158, 140), (158, 141), (158, 193), (158, 194), (158, 195), (158, 196), (159, 137), (159, 138), (159, 139), (159, 140), (159, 192), (159, 193), (159, 194), (159, 195), (160, 136), (160, 137), (160, 138), (160, 139), (160, 191), (160, 192), (160, 193), (160, 194), (161, 135), (161, 136), (161, 137), (161, 138), (161, 190), (161, 191), (161, 192), (161, 193), (162, 134), (162, 135), (162, 136), (162, 137), (162, 189), (162, 190), (162, 191), (162, 192), (163, 133), (163, 134), (163, 135), (163, 136), (163, 188), (163, 189), (163, 190), (163, 191), (164, 132), (164, 133), (164, 134), (164, 135), (164, 187), (164, 188), (164, 189), (164, 190), (165, 131), (165, 132), (165, 133), (165, 134), (165, 186), (165, 187), (165, 188), (165, 189), (166, 130), (166, 131), (166, 132), (166, 133), (166, 140), (166, 141), (166, 142), (166, 143), (166, 144), (166, 145), (166, 185), (166, 186), (166, 187), (166, 188), (167, 129), (167, 130), (167, 131), (167, 132), (167, 139), (167, 140), (167, 141), (167, 142), (167, 143), (167, 144), (167, 145), (167, 146), (167, 184), (167, 185), (167, 186), (167, 187), (168, 128), (168, 129), (168, 130), (168, 131), (168, 136), (168, 137), (168, 138), (168, 139), (168, 140), (168, 141), (168, 144), (168, 145), (168, 146), (168, 147), (168, 148), (168, 183), (168, 184), (168, 185), (168, 186), (169, 128), (169, 129), (169, 130), (169, 135), (169, 136), (169, 137), (169, 138), (169, 139), (169, 140), (169, 145), (169, 146), (169, 147), (169, 148), (169, 149), (169, 182), (169, 183), (169, 184), (169, 185), (170, 128), (170, 129), (170, 130), (170, 131), (170, 132), (170, 133), (170, 134), (170, 135), (170, 136), (170, 137), (170, 147), (170, 148), (170, 149), (170, 150), (170, 181), (170, 182), (170, 183), (170, 184), (171, 128), (171, 129), (171, 130), (171, 131), (171, 132), (171, 133), (171, 134), (171, 135), (171, 136), (171, 148), (171, 149), (171, 150), (171, 151), (171, 180), (171, 181), (171, 182), (171, 183), (172, 149), (172, 150), (172, 151), (172, 152), (172, 179), (172, 180), (172, 181), (172, 182), (173, 150), (173, 151), (173, 152), (173, 153), (173, 178), (173, 179), (173, 180), (173, 181), (174, 151), (174, 152), (174, 153), (174, 154), (174, 177), (174, 178), (174, 179), (174, 180), (175, 152), (175, 153), (175, 154), (175, 155), (175, 176), (175, 177), (175, 178), (175, 179), (176, 153), (176, 154), (176, 155), (176, 156), (176, 175), (176, 176), (176, 177), (176, 178), (177, 154), (177, 155), (177, 156), (177, 157), (177, 174), (177, 175), (177, 176), (177, 177), (178, 100), (178, 101), (178, 102), (178, 103), (178, 104), (178, 155), (178, 156), (178, 157), (178, 173), (178, 174), (178, 175), (178, 176), (179, 99), (179, 100), (179, 101), (179, 102), (179, 103), (179, 104), (179, 105), (179, 156), (179, 157), (179, 172), (179, 173), (179, 174), (179, 175), (180, 96), (180, 97), (180, 98), (180, 99), (180, 100), (180, 101), (180, 103), (180, 104), (180, 105), (180, 106), (180, 156), (180, 157), (180, 158), (180, 171), (180, 172), (180, 173), (180, 174), (181, 96), (181, 97), (181, 98), (181, 99), (181, 100), (181, 104), (181, 105), (181, 106), (181, 156), (181, 157), (181, 158), (181, 170), (181, 171), (181, 172), (181, 173), (182, 96), (182, 97), (182, 104), (182, 105), (182, 106), (182, 157), (182, 158), (182, 169), (182, 170), (182, 171), (182, 172), (183, 96), (183, 97), (183, 104), (183, 105), (183, 106), (183, 157), (183, 158), (183, 168), (183, 169), (183, 170), (183, 171), (184, 96), (184, 97), (184, 98), (184, 99), (184, 102), (184, 103), (184, 104), (184, 105), (184, 156), (184, 157), (184, 158), (184, 167), (184, 168), (184, 169), (184, 170), (185, 96), (185, 97), (185, 98), (185, 99), (185, 100), (185, 101), (185, 102), (185, 103), (185, 104), (185, 105), (185, 156), (185, 157), (185, 158), (185, 166), (185, 167), (185, 168), (185, 169), (186, 98), (186, 99), (186, 100), (186, 101), (186, 102), (186, 103), (186, 156), (186, 157), (186, 165), (186, 166), (186, 167), (186, 168), (187, 155), (187, 156), (187, 157), (187, 164), (187, 165), (187, 166), (187, 167), (188, 154), (188, 155), (188, 156), (188, 157), (188, 163), (188, 164), (188, 165), (188, 166), (189, 154), (189, 155), (189, 156), (189, 162), (189, 163), (189, 164), (189, 165), (190, 154), (190, 155), (190, 161), (190, 162), (190, 163), (190, 164), (191, 154), (191, 155), (191, 160), (191, 161), (191, 162), (191, 163), (192, 154), (192, 155), (192, 159), (192, 160), (192, 161), (192, 162), (193, 154), (193, 155), (193, 158), (193, 159), (193, 160), (193, 161), (194, 154), (194, 155), (194, 156), (194, 157), (194, 158), (194, 159), (194, 160), (195, 154), (195, 155), (195, 156), (195, 157), (195, 158), (195, 159), (208, 135), (208, 136), (208, 137), (208, 138), (208, 139), (208, 140), (208, 141), (209, 134), (209, 135), (209, 136), (209, 137), (209, 138), (209, 139), (209, 140), (209, 141), (209, 142), (210, 133), (210, 134), (210, 135), (210, 136), (210, 140), (210, 141), (210, 142), (210, 143), (211, 133), (211, 134), (211, 135), (211, 141), (211, 142), (211, 143), (211, 144), (211, 145), (212, 133), (212, 134), (212, 142), (212, 143), (212, 144), (212, 145), (212, 146), (212, 147), (212, 148), (212, 149), (213, 131), (213, 132), (213, 133), (213, 134), (213, 144), (213, 145), (213, 146), (213, 147), (213, 148), (213, 149), (213, 150), (213, 151), (213, 152), (213, 153), (214, 130), (214, 131), (214, 132), (214, 133), (214, 134), (214, 148), (214, 149), (214, 150), (214, 151), (214, 152), (214, 153), (214, 154), (215, 129), (215, 130), (215, 131), (215, 132), (215, 152), (215, 153), (215, 154), (215, 155), (216, 129), (216, 130), (216, 131), (216, 153), (216, 154), (216, 155), (217, 125), (217, 126), (217, 127), (217, 128), (217, 129), (217, 130), (217, 154), (217, 155), (218, 125), (218, 126), (218, 127), (218, 128), (218, 129), (218, 130), (218, 154), (218, 155), (219, 125), (219, 126), (219, 154), (219, 155), (220, 125), (220, 126), (220, 154), (220, 155), (221, 124), (221, 125), (221, 126), (221, 154), (221, 155), (221, 156), (221, 157), (222, 124), (222, 125), (222, 126), (222, 154), (222, 155), (222, 156), (222, 157), (222, 158), (222, 159), (222, 160), (222, 161), (222, 162), (222, 163), (222, 167), (222, 168), (222, 169), (223, 123), (223, 124), (223, 125), (223, 156), (223, 157), (223, 158), (223, 159), (223, 160), (223, 161), (223, 162), (223, 163), (223, 164), (223, 165), (223, 166), (223, 167), (223, 168), (223, 169), (223, 170), (224, 123), (224, 124), (224, 125), (224, 159), (224, 160), (224, 161), (224, 162), (224, 163), (224, 164), (224, 165), (224, 166), (224, 167), (224, 168), (224, 169), (224, 170), (224, 171), (224, 172), (225, 122), (225, 123), (225, 124), (225, 169), (225, 170), (225, 171), (225, 172), (225, 173), (225, 174), (226, 122), (226, 123), (226, 124), (226, 171), (226, 172), (226, 173), (226, 174), (226, 175), (227, 122), (227, 123), (227, 173), (227, 174), (227, 175), (228, 121), (228, 122), (228, 123), (228, 174), (228, 175), (229, 114), (229, 115), (229, 116), (229, 117), (229, 118), (229, 120), (229, 121), (229, 122), (229, 123), (229, 174), (229, 175), (230, 114), (230, 115), (230, 116), (230, 117), (230, 118), (230, 119), (230, 120), (230, 121), (230, 122), (230, 174), (230, 175), (230, 176), (231, 114), (231, 115), (231, 117), (231, 118), (231, 119), (231, 120), (231, 121), (231, 174), (231, 175), (231, 176), (231, 177), (232, 114), (232, 115), (232, 175), (232, 176), (232, 177), (232, 178), (233, 114), (233, 115), (233, 176), (233, 177), (233, 178), (233, 179), (234, 114), (234, 115), (234, 177), (234, 178), (234, 179), (234, 180), (235, 114), (235, 115), (235, 178), (235, 179), (235, 180), (236, 114), (236, 115), (236, 116), (236, 179), (236, 180), (236, 181), (237, 114), (237, 115), (237, 116), (237, 117), (237, 179), (237, 180), (237, 181), (238, 115), (238, 116), (238, 117), (238, 118), (238, 180), (238, 181), (239, 116), (239, 117), (239, 118), (239, 119), (239, 180), (239, 181), (240, 117), (240, 118), (240, 119), (240, 120), (240, 180), (240, 181), (241, 118), (241, 119), (241, 120), (241, 180), (241, 181), (242, 119), (242, 120), (242, 180), (242, 181), (243, 118), (243, 119), (243, 120), (243, 180), (243, 181), (244, 118), (244, 119), (244, 120), (244, 180), (244, 181), (245, 118), (245, 119), (245, 179), (245, 180), (245, 181), (246, 106), (246, 107), (246, 108), (246, 109), (246, 118), (246, 119), (246, 178), (246, 179), (246, 180), (246, 181), (247, 105), (247, 106), (247, 107), (247, 108), (247, 109), (247, 110), (247, 118), (247, 119), (247, 178), (247, 179), (247, 180), (248, 104), (248, 105), (248, 106), (248, 107), (248, 108), (248, 109), (248, 110), (248, 111), (248, 117), (248, 118), (248, 119), (248, 178), (248, 179), (249, 103), (249, 104), (249, 105), (249, 106), (249, 109), (249, 110), (249, 111), (249, 112), (249, 116), (249, 117), (249, 118), (249, 119), (249, 178), (249, 179), (250, 102), (250, 103), (250, 104), (250, 105), (250, 110), (250, 111), (250, 112), (250, 113), (250, 114), (250, 115), (250, 116), (250, 117), (250, 118), (250, 178), (250, 179), (251, 102), (251, 103), (251, 104), (251, 111), (251, 112), (251, 113), (251, 114), (251, 115), (251, 116), (251, 117), (251, 177), (251, 178), (251, 179), (252, 102), (252, 103), (252, 176), (252, 177), (252, 178), (252, 179)]\n"
     ]
    }
   ],
   "source": [
    "print(boundary_pixels)"
   ]
  },
  {
   "cell_type": "code",
   "execution_count": 37,
   "metadata": {},
   "outputs": [
    {
     "data": {
      "image/png": "[encoded data removed]",
      "text/plain": [
       "<Figure size 640x480 with 1 Axes>"
      ]
     },
     "metadata": {},
     "output_type": "display_data"
    }
   ],
   "source": [
    "\n",
    "def display_edge_pixels(boundary_pixels):\n",
    "    # Create a new image with white background\n",
    "    new_image = np.ones(image_array.shape + (3,), dtype=np.uint8) * 255  # White background\n",
    "\n",
    "    # Set boundary pixels to blue\n",
    "    for i, j in boundary_pixels:\n",
    "        new_image[i, j] = [0, 0, 255]  # Blue color\n",
    "\n",
    "    # Display the image\n",
    "    plt.imshow(new_image, interpolation='none')\n",
    "    plt.axis('off')\n",
    "    plt.show()\n",
    "\n",
    "display_edge_pixels(boundary_pixels)"
   ]
  },
  {
   "cell_type": "code",
   "execution_count": 38,
   "metadata": {},
   "outputs": [
    {
     "name": "stdout",
     "output_type": "stream",
     "text": [
      "0.7292108469287879\n"
     ]
    }
   ],
   "source": [
    "print(random.random())"
   ]
  },
  {
   "cell_type": "code",
   "execution_count": 39,
   "metadata": {},
   "outputs": [],
   "source": [
    "def add_randomness_to_boundaries(image_array, boundary_pixels, randomness_factor=0.5):\n",
    "    \"\"\"Add randomness to the boundaries.\"\"\"\n",
    "    for i, j in boundary_pixels:\n",
    "        if random.random() < randomness_factor:\n",
    "            if(image_array[i, j]) == 255:\n",
    "                image_array[i, j] = 0\n",
    "            else:\n",
    "                image_array[i, j] = 255\n",
    "                "
   ]
  },
  {
   "cell_type": "code",
   "execution_count": 41,
   "metadata": {},
   "outputs": [
    {
     "data": {
      "image/png": "[encoded data removed]",
      "text/plain": [
       "<Figure size 640x480 with 1 Axes>"
      ]
     },
     "metadata": {},
     "output_type": "display_data"
    },
    {
     "data": {
      "image/png": "[encoded data removed]",
      "text/plain": [
       "<Figure size 640x480 with 1 Axes>"
      ]
     },
     "metadata": {},
     "output_type": "display_data"
    }
   ],
   "source": [
    "\n",
    "\n",
    "NUMBER_OF_RANDOMNESS_ADDS = 6\n",
    "\n",
    "for i in range(0,NUMBER_OF_RANDOMNESS_ADDS):\n",
    "    add_randomness_to_boundaries(image_array, boundary_pixels)\n",
    "    boundary_pixels = find_boundary_pixels(image_array)\n",
    "\n",
    "\n",
    "\n",
    "\n",
    "\n",
    "\n",
    "#combine boundary pixels to the image array\n",
    "\n",
    "for coord in boundary_pixels:\n",
    "    image_array[coord[0], coord[1]] = 0\n",
    "\n",
    "#image_array = make_boundary_wavy(image_array, boundary_pixels)\n",
    "show_image_array(image_array)\n",
    "display_edge_pixels(boundary_pixels)\n",
    "\n"
   ]
  }
 ],
 "metadata": {
  "kernelspec": {
   "display_name": "myenv",
   "language": "python",
   "name": "python3"
  },
  "language_info": {
   "codemirror_mode": {
    "name": "ipython",
    "version": 3
   },
   "file_extension": ".py",
   "mimetype": "text/x-python",
   "name": "python",
   "nbconvert_exporter": "python",
   "pygments_lexer": "ipython3",
   "version": "3.9.6"
  }
 },
 "nbformat": 4,
 "nbformat_minor": 2
}
